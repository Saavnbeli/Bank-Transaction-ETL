{
  "nbformat": 4,
  "nbformat_minor": 0,
  "metadata": {
    "colab": {
      "provenance": [],
      "collapsed_sections": [
        "pZqSAWa6p8-K",
        "jkI_Vqp4opVP",
        "4P-XpP5lobFp",
        "jB8vCisDXv-v",
        "HhRbaANGYLtY",
        "c1JAFvJJYzbO",
        "Uv4OvLHQbLds",
        "g3Bs95RFbTzK"
      ]
    },
    "kernelspec": {
      "name": "python3",
      "display_name": "Python 3"
    },
    "language_info": {
      "name": "python"
    }
  },
  "cells": [
    {
      "cell_type": "code",
      "source": [
        "from google.colab import drive\n",
        "drive.mount('/content/drive')"
      ],
      "metadata": {
        "colab": {
          "base_uri": "https://localhost:8080/"
        },
        "id": "1_u0w9JFJcfs",
        "outputId": "db205c73-3b42-4bd8-facc-b2271f0054b3"
      },
      "execution_count": null,
      "outputs": [
        {
          "output_type": "stream",
          "name": "stdout",
          "text": [
            "Drive already mounted at /content/drive; to attempt to forcibly remount, call drive.mount(\"/content/drive\", force_remount=True).\n"
          ]
        }
      ]
    },
    {
      "cell_type": "markdown",
      "source": [
        "## **Importing Libraries and setting environment variables**"
      ],
      "metadata": {
        "id": "ABjN-f_Zpm2z"
      }
    },
    {
      "cell_type": "code",
      "source": [
        "!apt-get install openjdk-8-jdk-headless -qq > /dev/null"
      ],
      "metadata": {
        "id": "6O_s8DSse8tx"
      },
      "execution_count": null,
      "outputs": []
    },
    {
      "cell_type": "code",
      "source": [
        "!tar xf /content/drive/MyDrive/something/spark-3.4.0-bin-hadoop3.tgz"
      ],
      "metadata": {
        "id": "vgelKDr4dOWk"
      },
      "execution_count": null,
      "outputs": []
    },
    {
      "cell_type": "code",
      "source": [
        "!pip install -q findspark"
      ],
      "metadata": {
        "id": "RFqpD3hAd7yL"
      },
      "execution_count": null,
      "outputs": []
    },
    {
      "cell_type": "code",
      "source": [
        "import os\n",
        "import sys\n",
        "#os.environ[\"PYSPARK_PYTHON\"] = \"/Users/saavnbeli/opt/anaconda3/bin/python3\"\n",
        "os.environ['PYSPARK_SUBMIT_ARGS'] = '--jars aws-java-sdk-1.11.1010.jar,aws-java-sdk-s3-1.11.1034.jar pyspark-shell'\n",
        "#os.environ['PYSPARK_SUBMIT_ARGS'] = '--driver-class-path hadoop-aws-3.3.4.jar --jars hadoop-aws-3.3.4.jar pyspark-shell'\n",
        "os.environ[\"JAVA_HOME\"] = \"/usr/lib/jvm/java-8-openjdk-amd64\"\n",
        "os.environ[\"SPARK_HOME\"] = \"/content/spark-3.4.0-bin-hadoop3\"\n",
        "os.environ[\"PYLIB\"] = os.environ[\"SPARK_HOME\"] + \"/python/lib\"\n",
        "sys.path.insert(0, os.environ[\"PYLIB\"] +\"/py4j-0.10.6-src.zip\")\n",
        "sys.path.insert(0, os.environ[\"PYLIB\"] +\"/pyspark.zip\")"
      ],
      "metadata": {
        "id": "hQ1PHQ_vKvau"
      },
      "execution_count": null,
      "outputs": []
    },
    {
      "cell_type": "code",
      "source": [
        "from pyspark.sql.types import StructType, StructField, IntegerType, StringType, BooleanType, DoubleType, LongType, FloatType\n",
        "from pyspark.sql.functions import col,lit\n",
        "from pyspark.sql.window import Window\n",
        "from pyspark.sql.functions import row_number\n",
        "from pyspark.sql.functions import from_unixtime\n",
        "from pyspark.sql.functions import unix_timestamp\n",
        "from pyspark.sql.functions import concat\n",
        "from pyspark.sql.functions import lpad\n",
        "import pyspark as pyspark\n",
        "from pyspark import SparkContext"
      ],
      "metadata": {
        "id": "yTBTG6HbJdu-"
      },
      "execution_count": null,
      "outputs": []
    },
    {
      "cell_type": "code",
      "source": [
        "import findspark\n",
        "findspark.init()\n",
        "findspark.find()"
      ],
      "metadata": {
        "colab": {
          "base_uri": "https://localhost:8080/"
        },
        "id": "Smi1WxoSoxSM",
        "outputId": "0eac867c-d8ca-4efa-bae9-b377f45979a6"
      },
      "execution_count": null,
      "outputs": [
        {
          "output_type": "execute_result",
          "data": {
            "text/plain": [
              "'/content/spark-3.4.0-bin-hadoop3'"
            ],
            "application/vnd.google.colaboratory.intrinsic+json": {
              "type": "string"
            }
          },
          "metadata": {},
          "execution_count": 92
        }
      ]
    },
    {
      "cell_type": "code",
      "source": [
        "from pyspark.sql import SparkSession\n",
        "spark = SparkSession.builder\\\n",
        "        .master(\"local\")\\\n",
        "        .appName(\"Colab\")\\\n",
        "        .getOrCreate()"
      ],
      "metadata": {
        "id": "p2tNuXI7McWS"
      },
      "execution_count": null,
      "outputs": []
    },
    {
      "cell_type": "markdown",
      "source": [
        "## **Creating schema**"
      ],
      "metadata": {
        "id": "KP-kyFxspvYw"
      }
    },
    {
      "cell_type": "code",
      "source": [
        "dfschema = StructType([StructField('year', IntegerType(),True),\n",
        "                                    StructField('month', StringType(),True),\n",
        "                                    StructField('day', IntegerType(),True),\n",
        "                                    StructField('weekday', StringType(),True),\n",
        "                                    StructField('hour', IntegerType(),True),\n",
        "                                    StructField('atm_status', StringType(),True),\n",
        "                                    StructField('atm_id', StringType(),True),\n",
        "                                    StructField('atm_manufacturer', StringType(),True),\n",
        "                                    StructField('atm_location', StringType(),True),\n",
        "                                    StructField('atm_streetname', StringType(),True),\n",
        "                                    StructField('atm_street_number', IntegerType(),True),\n",
        "                                    StructField('atm_zipcode', IntegerType(),True),\n",
        "                                    StructField('atm_lat', FloatType(),True),\n",
        "                                    StructField('atm_lon', FloatType(),True),\n",
        "                                    StructField('currency', StringType(),True),\n",
        "                                    StructField('card_type', StringType(),True),\n",
        "                                    StructField('transaction_amount', IntegerType(),True),\n",
        "                                    StructField('service', StringType(),True),\n",
        "                                    StructField('message_code', StringType(),True),\n",
        "                                    StructField('message_text', StringType(),True),\n",
        "                                    StructField('weather_lat', FloatType(),True),\n",
        "                                    StructField('weather_lon', FloatType(),True),\n",
        "                                    StructField('weather_city_id', IntegerType(),True),\n",
        "                                    StructField('weather_city_name', StringType(),True),\n",
        "                                    StructField('temp', FloatType(),True),\n",
        "                                    StructField('pressure', IntegerType(),True),\n",
        "                                    StructField('humidity', IntegerType(),True),\n",
        "                                    StructField('wind_speed', IntegerType(),True),\n",
        "                                    StructField('wind_deg', IntegerType(),True),\n",
        "                                    StructField('rain_3h', FloatType(),True),\n",
        "                                    StructField('clouds_all', IntegerType(),True),\n",
        "                                    StructField('weather_id', IntegerType(),True),\n",
        "                                    StructField('weather_main', StringType(),True),\n",
        "                                    StructField('weather_description', StringType(),True),])"
      ],
      "metadata": {
        "id": "cZBRehIumcK-"
      },
      "execution_count": null,
      "outputs": []
    },
    {
      "cell_type": "markdown",
      "source": [
        "## **Importing data**"
      ],
      "metadata": {
        "id": "-tp6eU5wp0pP"
      }
    },
    {
      "cell_type": "code",
      "source": [
        "df = spark.read.csv(\"/content/drive/MyDrive/BDT_dataset/atm_data_part1.csv\", header=True, inferSchema = True, schema = dfschema)"
      ],
      "metadata": {
        "id": "RS0GT8N8Pz5t"
      },
      "execution_count": null,
      "outputs": []
    },
    {
      "cell_type": "code",
      "source": [
        "df.head()"
      ],
      "metadata": {
        "colab": {
          "base_uri": "https://localhost:8080/"
        },
        "id": "CufxR64yRwZh",
        "outputId": "2635284d-0518-4edf-fade-657eb1d3162f"
      },
      "execution_count": null,
      "outputs": [
        {
          "output_type": "execute_result",
          "data": {
            "text/plain": [
              "Row(year=2017, month='January', day=1, weekday='Sunday', hour=0, atm_status='Active', atm_id='1', atm_manufacturer='NCR', atm_location='Næstved', atm_streetname='Farimagsvej', atm_street_number=8, atm_zipcode=4700, atm_lat=55.233421325683594, atm_lon=11.763270378112793, currency='DKK', card_type='MasterCard', transaction_amount=None, service=None, message_code=None, message_text='55.229919', weather_lat=11.760919570922852, weather_lon=2616038.0, weather_city_id=None, weather_city_name='281.15', temp=1014.0, pressure=87, humidity=7, wind_speed=260, wind_deg=None, rain_3h=92.0, clouds_all=500, weather_id=None, weather_main='light rain', weather_description=None)"
            ]
          },
          "metadata": {},
          "execution_count": 96
        }
      ]
    },
    {
      "cell_type": "code",
      "source": [
        "df1 = spark.read.csv(\"/content/drive/MyDrive/BDT_dataset/atm_data_part2.csv\", header=True, inferSchema = True, schema = dfschema)"
      ],
      "metadata": {
        "id": "OeXsRUMogT4r"
      },
      "execution_count": null,
      "outputs": []
    },
    {
      "cell_type": "code",
      "source": [
        "df.head()"
      ],
      "metadata": {
        "colab": {
          "base_uri": "https://localhost:8080/"
        },
        "id": "0ljueBn9hffA",
        "outputId": "0212e558-948c-40fb-9016-d19799f2d71c"
      },
      "execution_count": null,
      "outputs": [
        {
          "output_type": "execute_result",
          "data": {
            "text/plain": [
              "Row(year=2017, month='January', day=1, weekday='Sunday', hour=0, atm_status='Active', atm_id='1', atm_manufacturer='NCR', atm_location='Næstved', atm_streetname='Farimagsvej', atm_street_number=8, atm_zipcode=4700, atm_lat=55.233421325683594, atm_lon=11.763270378112793, currency='DKK', card_type='MasterCard', transaction_amount=None, service=None, message_code=None, message_text='55.229919', weather_lat=11.760919570922852, weather_lon=2616038.0, weather_city_id=None, weather_city_name='281.15', temp=1014.0, pressure=87, humidity=7, wind_speed=260, wind_deg=None, rain_3h=92.0, clouds_all=500, weather_id=None, weather_main='light rain', weather_description=None)"
            ]
          },
          "metadata": {},
          "execution_count": 98
        }
      ]
    },
    {
      "cell_type": "code",
      "source": [
        "spar_df = df.union(df1)"
      ],
      "metadata": {
        "id": "XcKIzjmIgkQW"
      },
      "execution_count": null,
      "outputs": []
    },
    {
      "cell_type": "code",
      "source": [
        "spar_df.printSchema()"
      ],
      "metadata": {
        "colab": {
          "base_uri": "https://localhost:8080/"
        },
        "id": "YBb9MsimgsqO",
        "outputId": "eba0a3c3-f2ee-49b4-b58b-2458e892a287"
      },
      "execution_count": null,
      "outputs": [
        {
          "output_type": "stream",
          "name": "stdout",
          "text": [
            "root\n",
            " |-- year: integer (nullable = true)\n",
            " |-- month: string (nullable = true)\n",
            " |-- day: integer (nullable = true)\n",
            " |-- weekday: string (nullable = true)\n",
            " |-- hour: integer (nullable = true)\n",
            " |-- atm_status: string (nullable = true)\n",
            " |-- atm_id: string (nullable = true)\n",
            " |-- atm_manufacturer: string (nullable = true)\n",
            " |-- atm_location: string (nullable = true)\n",
            " |-- atm_streetname: string (nullable = true)\n",
            " |-- atm_street_number: integer (nullable = true)\n",
            " |-- atm_zipcode: integer (nullable = true)\n",
            " |-- atm_lat: float (nullable = true)\n",
            " |-- atm_lon: float (nullable = true)\n",
            " |-- currency: string (nullable = true)\n",
            " |-- card_type: string (nullable = true)\n",
            " |-- transaction_amount: integer (nullable = true)\n",
            " |-- service: string (nullable = true)\n",
            " |-- message_code: string (nullable = true)\n",
            " |-- message_text: string (nullable = true)\n",
            " |-- weather_lat: float (nullable = true)\n",
            " |-- weather_lon: float (nullable = true)\n",
            " |-- weather_city_id: integer (nullable = true)\n",
            " |-- weather_city_name: string (nullable = true)\n",
            " |-- temp: float (nullable = true)\n",
            " |-- pressure: integer (nullable = true)\n",
            " |-- humidity: integer (nullable = true)\n",
            " |-- wind_speed: integer (nullable = true)\n",
            " |-- wind_deg: integer (nullable = true)\n",
            " |-- rain_3h: float (nullable = true)\n",
            " |-- clouds_all: integer (nullable = true)\n",
            " |-- weather_id: integer (nullable = true)\n",
            " |-- weather_main: string (nullable = true)\n",
            " |-- weather_description: string (nullable = true)\n",
            "\n"
          ]
        }
      ]
    },
    {
      "cell_type": "code",
      "source": [
        "spar_df.count()"
      ],
      "metadata": {
        "colab": {
          "base_uri": "https://localhost:8080/"
        },
        "id": "MX0O29v0iXyW",
        "outputId": "efcffa7b-d6a4-450a-e227-9b91e5bc2a67"
      },
      "execution_count": null,
      "outputs": [
        {
          "output_type": "execute_result",
          "data": {
            "text/plain": [
              "2468572"
            ]
          },
          "metadata": {},
          "execution_count": 101
        }
      ]
    },
    {
      "cell_type": "code",
      "source": [
        "spar_df.columns"
      ],
      "metadata": {
        "colab": {
          "base_uri": "https://localhost:8080/"
        },
        "id": "q2pU1wbkit13",
        "outputId": "280595dd-9f4a-4e01-beaf-a04062dc1690"
      },
      "execution_count": null,
      "outputs": [
        {
          "output_type": "execute_result",
          "data": {
            "text/plain": [
              "['year',\n",
              " 'month',\n",
              " 'day',\n",
              " 'weekday',\n",
              " 'hour',\n",
              " 'atm_status',\n",
              " 'atm_id',\n",
              " 'atm_manufacturer',\n",
              " 'atm_location',\n",
              " 'atm_streetname',\n",
              " 'atm_street_number',\n",
              " 'atm_zipcode',\n",
              " 'atm_lat',\n",
              " 'atm_lon',\n",
              " 'currency',\n",
              " 'card_type',\n",
              " 'transaction_amount',\n",
              " 'service',\n",
              " 'message_code',\n",
              " 'message_text',\n",
              " 'weather_lat',\n",
              " 'weather_lon',\n",
              " 'weather_city_id',\n",
              " 'weather_city_name',\n",
              " 'temp',\n",
              " 'pressure',\n",
              " 'humidity',\n",
              " 'wind_speed',\n",
              " 'wind_deg',\n",
              " 'rain_3h',\n",
              " 'clouds_all',\n",
              " 'weather_id',\n",
              " 'weather_main',\n",
              " 'weather_description']"
            ]
          },
          "metadata": {},
          "execution_count": 102
        }
      ]
    },
    {
      "cell_type": "markdown",
      "source": [
        "### **Checking for null values**"
      ],
      "metadata": {
        "id": "pZqSAWa6p8-K"
      }
    },
    {
      "cell_type": "code",
      "source": [
        "# craeting a function to check null values in dataframe\n",
        "import pyspark.sql.functions as F\n",
        "def count_missings(spark_df,sort=True):\n",
        "    \"\"\"\n",
        "    Counts number of nulls and nans in each column\n",
        "    \"\"\"\n",
        "    df = spark_df.select([F.count(F.when(F.isnan(c) | F.isnull(c), c)).alias(c) for (c,c_type) in spark_df.dtypes if c_type not in ('timestamp', 'date')]).toPandas()\n",
        "\n",
        "    if len(df) == 0:\n",
        "        print(\"There are no any missing values!\")\n",
        "        return None\n",
        "\n",
        "    if sort:\n",
        "        return df.rename(index={0: 'count'}).T.sort_values(\"count\",ascending=False)\n",
        "\n",
        "    return df"
      ],
      "metadata": {
        "id": "o8GkWHMImmjd"
      },
      "execution_count": null,
      "outputs": []
    },
    {
      "cell_type": "code",
      "source": [
        "# checking null values\n",
        "count_missings(spar_df)"
      ],
      "metadata": {
        "colab": {
          "base_uri": "https://localhost:8080/"
        },
        "id": "YpH1_pUcmx5n",
        "outputId": "dbe6b18e-7b9b-4121-dfa3-793b0910906e"
      },
      "execution_count": null,
      "outputs": [
        {
          "output_type": "execute_result",
          "data": {
            "text/plain": [
              "                       count\n",
              "weather_description  2468572\n",
              "transaction_amount   2468572\n",
              "weather_id           2468572\n",
              "weather_city_id      2468572\n",
              "wind_deg             2468366\n",
              "message_code         2459010\n",
              "service              2459009\n",
              "atm_manufacturer           0\n",
              "weather_lon                0\n",
              "weather_main               0\n",
              "day                        0\n",
              "clouds_all                 0\n",
              "rain_3h                    0\n",
              "weekday                    0\n",
              "wind_speed                 0\n",
              "humidity                   0\n",
              "pressure                   0\n",
              "temp                       0\n",
              "weather_city_name          0\n",
              "hour                       0\n",
              "weather_lat                0\n",
              "atm_location               0\n",
              "message_text               0\n",
              "atm_status                 0\n",
              "month                      0\n",
              "atm_id                     0\n",
              "card_type                  0\n",
              "currency                   0\n",
              "atm_lon                    0\n",
              "atm_lat                    0\n",
              "atm_zipcode                0\n",
              "atm_street_number          0\n",
              "atm_streetname             0\n",
              "year                       0"
            ],
            "text/html": [
              "\n",
              "  <div id=\"df-366b15ed-9c31-49f7-a2f2-ef061ef646ff\">\n",
              "    <div class=\"colab-df-container\">\n",
              "      <div>\n",
              "<style scoped>\n",
              "    .dataframe tbody tr th:only-of-type {\n",
              "        vertical-align: middle;\n",
              "    }\n",
              "\n",
              "    .dataframe tbody tr th {\n",
              "        vertical-align: top;\n",
              "    }\n",
              "\n",
              "    .dataframe thead th {\n",
              "        text-align: right;\n",
              "    }\n",
              "</style>\n",
              "<table border=\"1\" class=\"dataframe\">\n",
              "  <thead>\n",
              "    <tr style=\"text-align: right;\">\n",
              "      <th></th>\n",
              "      <th>count</th>\n",
              "    </tr>\n",
              "  </thead>\n",
              "  <tbody>\n",
              "    <tr>\n",
              "      <th>weather_description</th>\n",
              "      <td>2468572</td>\n",
              "    </tr>\n",
              "    <tr>\n",
              "      <th>transaction_amount</th>\n",
              "      <td>2468572</td>\n",
              "    </tr>\n",
              "    <tr>\n",
              "      <th>weather_id</th>\n",
              "      <td>2468572</td>\n",
              "    </tr>\n",
              "    <tr>\n",
              "      <th>weather_city_id</th>\n",
              "      <td>2468572</td>\n",
              "    </tr>\n",
              "    <tr>\n",
              "      <th>wind_deg</th>\n",
              "      <td>2468366</td>\n",
              "    </tr>\n",
              "    <tr>\n",
              "      <th>message_code</th>\n",
              "      <td>2459010</td>\n",
              "    </tr>\n",
              "    <tr>\n",
              "      <th>service</th>\n",
              "      <td>2459009</td>\n",
              "    </tr>\n",
              "    <tr>\n",
              "      <th>atm_manufacturer</th>\n",
              "      <td>0</td>\n",
              "    </tr>\n",
              "    <tr>\n",
              "      <th>weather_lon</th>\n",
              "      <td>0</td>\n",
              "    </tr>\n",
              "    <tr>\n",
              "      <th>weather_main</th>\n",
              "      <td>0</td>\n",
              "    </tr>\n",
              "    <tr>\n",
              "      <th>day</th>\n",
              "      <td>0</td>\n",
              "    </tr>\n",
              "    <tr>\n",
              "      <th>clouds_all</th>\n",
              "      <td>0</td>\n",
              "    </tr>\n",
              "    <tr>\n",
              "      <th>rain_3h</th>\n",
              "      <td>0</td>\n",
              "    </tr>\n",
              "    <tr>\n",
              "      <th>weekday</th>\n",
              "      <td>0</td>\n",
              "    </tr>\n",
              "    <tr>\n",
              "      <th>wind_speed</th>\n",
              "      <td>0</td>\n",
              "    </tr>\n",
              "    <tr>\n",
              "      <th>humidity</th>\n",
              "      <td>0</td>\n",
              "    </tr>\n",
              "    <tr>\n",
              "      <th>pressure</th>\n",
              "      <td>0</td>\n",
              "    </tr>\n",
              "    <tr>\n",
              "      <th>temp</th>\n",
              "      <td>0</td>\n",
              "    </tr>\n",
              "    <tr>\n",
              "      <th>weather_city_name</th>\n",
              "      <td>0</td>\n",
              "    </tr>\n",
              "    <tr>\n",
              "      <th>hour</th>\n",
              "      <td>0</td>\n",
              "    </tr>\n",
              "    <tr>\n",
              "      <th>weather_lat</th>\n",
              "      <td>0</td>\n",
              "    </tr>\n",
              "    <tr>\n",
              "      <th>atm_location</th>\n",
              "      <td>0</td>\n",
              "    </tr>\n",
              "    <tr>\n",
              "      <th>message_text</th>\n",
              "      <td>0</td>\n",
              "    </tr>\n",
              "    <tr>\n",
              "      <th>atm_status</th>\n",
              "      <td>0</td>\n",
              "    </tr>\n",
              "    <tr>\n",
              "      <th>month</th>\n",
              "      <td>0</td>\n",
              "    </tr>\n",
              "    <tr>\n",
              "      <th>atm_id</th>\n",
              "      <td>0</td>\n",
              "    </tr>\n",
              "    <tr>\n",
              "      <th>card_type</th>\n",
              "      <td>0</td>\n",
              "    </tr>\n",
              "    <tr>\n",
              "      <th>currency</th>\n",
              "      <td>0</td>\n",
              "    </tr>\n",
              "    <tr>\n",
              "      <th>atm_lon</th>\n",
              "      <td>0</td>\n",
              "    </tr>\n",
              "    <tr>\n",
              "      <th>atm_lat</th>\n",
              "      <td>0</td>\n",
              "    </tr>\n",
              "    <tr>\n",
              "      <th>atm_zipcode</th>\n",
              "      <td>0</td>\n",
              "    </tr>\n",
              "    <tr>\n",
              "      <th>atm_street_number</th>\n",
              "      <td>0</td>\n",
              "    </tr>\n",
              "    <tr>\n",
              "      <th>atm_streetname</th>\n",
              "      <td>0</td>\n",
              "    </tr>\n",
              "    <tr>\n",
              "      <th>year</th>\n",
              "      <td>0</td>\n",
              "    </tr>\n",
              "  </tbody>\n",
              "</table>\n",
              "</div>\n",
              "      <button class=\"colab-df-convert\" onclick=\"convertToInteractive('df-366b15ed-9c31-49f7-a2f2-ef061ef646ff')\"\n",
              "              title=\"Convert this dataframe to an interactive table.\"\n",
              "              style=\"display:none;\">\n",
              "        \n",
              "  <svg xmlns=\"http://www.w3.org/2000/svg\" height=\"24px\"viewBox=\"0 0 24 24\"\n",
              "       width=\"24px\">\n",
              "    <path d=\"M0 0h24v24H0V0z\" fill=\"none\"/>\n",
              "    <path d=\"M18.56 5.44l.94 2.06.94-2.06 2.06-.94-2.06-.94-.94-2.06-.94 2.06-2.06.94zm-11 1L8.5 8.5l.94-2.06 2.06-.94-2.06-.94L8.5 2.5l-.94 2.06-2.06.94zm10 10l.94 2.06.94-2.06 2.06-.94-2.06-.94-.94-2.06-.94 2.06-2.06.94z\"/><path d=\"M17.41 7.96l-1.37-1.37c-.4-.4-.92-.59-1.43-.59-.52 0-1.04.2-1.43.59L10.3 9.45l-7.72 7.72c-.78.78-.78 2.05 0 2.83L4 21.41c.39.39.9.59 1.41.59.51 0 1.02-.2 1.41-.59l7.78-7.78 2.81-2.81c.8-.78.8-2.07 0-2.86zM5.41 20L4 18.59l7.72-7.72 1.47 1.35L5.41 20z\"/>\n",
              "  </svg>\n",
              "      </button>\n",
              "      \n",
              "  <style>\n",
              "    .colab-df-container {\n",
              "      display:flex;\n",
              "      flex-wrap:wrap;\n",
              "      gap: 12px;\n",
              "    }\n",
              "\n",
              "    .colab-df-convert {\n",
              "      background-color: #E8F0FE;\n",
              "      border: none;\n",
              "      border-radius: 50%;\n",
              "      cursor: pointer;\n",
              "      display: none;\n",
              "      fill: #1967D2;\n",
              "      height: 32px;\n",
              "      padding: 0 0 0 0;\n",
              "      width: 32px;\n",
              "    }\n",
              "\n",
              "    .colab-df-convert:hover {\n",
              "      background-color: #E2EBFA;\n",
              "      box-shadow: 0px 1px 2px rgba(60, 64, 67, 0.3), 0px 1px 3px 1px rgba(60, 64, 67, 0.15);\n",
              "      fill: #174EA6;\n",
              "    }\n",
              "\n",
              "    [theme=dark] .colab-df-convert {\n",
              "      background-color: #3B4455;\n",
              "      fill: #D2E3FC;\n",
              "    }\n",
              "\n",
              "    [theme=dark] .colab-df-convert:hover {\n",
              "      background-color: #434B5C;\n",
              "      box-shadow: 0px 1px 3px 1px rgba(0, 0, 0, 0.15);\n",
              "      filter: drop-shadow(0px 1px 2px rgba(0, 0, 0, 0.3));\n",
              "      fill: #FFFFFF;\n",
              "    }\n",
              "  </style>\n",
              "\n",
              "      <script>\n",
              "        const buttonEl =\n",
              "          document.querySelector('#df-366b15ed-9c31-49f7-a2f2-ef061ef646ff button.colab-df-convert');\n",
              "        buttonEl.style.display =\n",
              "          google.colab.kernel.accessAllowed ? 'block' : 'none';\n",
              "\n",
              "        async function convertToInteractive(key) {\n",
              "          const element = document.querySelector('#df-366b15ed-9c31-49f7-a2f2-ef061ef646ff');\n",
              "          const dataTable =\n",
              "            await google.colab.kernel.invokeFunction('convertToInteractive',\n",
              "                                                     [key], {});\n",
              "          if (!dataTable) return;\n",
              "\n",
              "          const docLinkHtml = 'Like what you see? Visit the ' +\n",
              "            '<a target=\"_blank\" href=https://colab.research.google.com/notebooks/data_table.ipynb>data table notebook</a>'\n",
              "            + ' to learn more about interactive tables.';\n",
              "          element.innerHTML = '';\n",
              "          dataTable['output_type'] = 'display_data';\n",
              "          await google.colab.output.renderOutput(dataTable, element);\n",
              "          const docLink = document.createElement('div');\n",
              "          docLink.innerHTML = docLinkHtml;\n",
              "          element.appendChild(docLink);\n",
              "        }\n",
              "      </script>\n",
              "    </div>\n",
              "  </div>\n",
              "  "
            ]
          },
          "metadata": {},
          "execution_count": 104
        }
      ]
    },
    {
      "cell_type": "markdown",
      "source": [
        "## **Creating `Location` dimension**"
      ],
      "metadata": {
        "id": "jkI_Vqp4opVP"
      }
    },
    {
      "cell_type": "code",
      "source": [
        "# Reading respective columns for location dimension from spar_df\n",
        "dim_location = spar_df.select([spar_df.atm_location.alias(\"location\"),\n",
        "                                spar_df.atm_streetname.alias(\"streetname\"),\n",
        "                                spar_df.atm_street_number.alias(\"street_number\"),\n",
        "                                spar_df.atm_zipcode.alias(\"zipcode\"),\n",
        "                                spar_df.atm_lat.alias(\"lat\"),\n",
        "                                spar_df.atm_lon.alias(\"lon\")]).distinct()"
      ],
      "metadata": {
        "id": "AIelzVm8o9p3"
      },
      "execution_count": null,
      "outputs": []
    },
    {
      "cell_type": "code",
      "source": [
        "dim_location.show(5, truncate=False)"
      ],
      "metadata": {
        "colab": {
          "base_uri": "https://localhost:8080/"
        },
        "id": "SFB-2Gw5nErw",
        "outputId": "f9fc1478-6c90-42f6-ff6b-16bd28ca9b0f"
      },
      "execution_count": null,
      "outputs": [
        {
          "output_type": "stream",
          "name": "stdout",
          "text": [
            "+----------------------+----------+-------------+-------+---------+---------+\n",
            "|location              |streetname|street_number|zipcode|lat      |lon      |\n",
            "+----------------------+----------+-------------+-------+---------+---------+\n",
            "|Daglig Brugsen Ø.Hurup|Kystvejen |51           |9560   |56.804127|10.27129 |\n",
            "|Hørning               |Nørrealle |12           |8362   |56.086094|10.037351|\n",
            "|Farsø                 |Torvet    |8            |9640   |56.771267|9.340144 |\n",
            "|Storcenter indg. A    |Hobrovej  |452          |9200   |57.004795|9.875935 |\n",
            "|Fur                   |Stenøre   |19           |7884   |56.804768|9.020021 |\n",
            "+----------------------+----------+-------------+-------+---------+---------+\n",
            "only showing top 5 rows\n",
            "\n"
          ]
        }
      ]
    },
    {
      "cell_type": "code",
      "source": [
        "dim_location.count()"
      ],
      "metadata": {
        "colab": {
          "base_uri": "https://localhost:8080/"
        },
        "id": "UrSm_qHYnHt5",
        "outputId": "b21b96b9-814c-409d-ca04-64db29a9e1b6"
      },
      "execution_count": null,
      "outputs": [
        {
          "output_type": "execute_result",
          "data": {
            "text/plain": [
              "109"
            ]
          },
          "metadata": {},
          "execution_count": 107
        }
      ]
    },
    {
      "cell_type": "code",
      "source": [
        "# adding column for primary key\n",
        "dim_location= dim_location.withColumn(\"new_column\",lit(\"ABC\"))\n",
        "# creating primary key\n",
        "w = Window().partitionBy('new_column').orderBy(lit('A'))\n",
        "dim_location= dim_location.withColumn(\"atm_location_id\", row_number().over(w)).drop(\"new_column\")\n",
        "dim_location.printSchema()"
      ],
      "metadata": {
        "colab": {
          "base_uri": "https://localhost:8080/"
        },
        "id": "vcKp6S2YnJLD",
        "outputId": "f7a95e11-e1e8-4d19-eb18-7cd35f4464c0"
      },
      "execution_count": null,
      "outputs": [
        {
          "output_type": "stream",
          "name": "stdout",
          "text": [
            "root\n",
            " |-- location: string (nullable = true)\n",
            " |-- streetname: string (nullable = true)\n",
            " |-- street_number: integer (nullable = true)\n",
            " |-- zipcode: integer (nullable = true)\n",
            " |-- lat: float (nullable = true)\n",
            " |-- lon: float (nullable = true)\n",
            " |-- atm_location_id: integer (nullable = false)\n",
            "\n"
          ]
        }
      ]
    },
    {
      "cell_type": "code",
      "source": [
        "dim_location.filter(dim_location['atm_location_id'] > 106).collect()"
      ],
      "metadata": {
        "colab": {
          "base_uri": "https://localhost:8080/"
        },
        "id": "kb4j_c6mn3hq",
        "outputId": "c2729185-8c5b-4a5f-aff9-1d81f7181d56"
      },
      "execution_count": null,
      "outputs": [
        {
          "output_type": "execute_result",
          "data": {
            "text/plain": [
              "[Row(location='Slagelse', streetname='Mariendals Allè', street_number=29, zipcode=4200, lat=55.397518157958984, lon=11.341839790344238, atm_location_id=107),\n",
              " Row(location='Aarhus', streetname='Ceres Byen', street_number=75, zipcode=8000, lat=56.15700912475586, lon=10.193846702575684, atm_location_id=108),\n",
              " Row(location='Næstved', streetname='Farimagsgade', street_number=8, zipcode=4700, lat=55.68986511230469, lon=12.575057029724121, atm_location_id=109)]"
            ]
          },
          "metadata": {},
          "execution_count": 109
        }
      ]
    },
    {
      "cell_type": "code",
      "source": [
        "# Rearrange dim_location\n",
        "location = dim_location.select(\"atm_location_id\",\"location\",\"streetname\",\"street_number\",\"zipcode\",\"lat\",\"lon\")"
      ],
      "metadata": {
        "id": "Zvm2vupbn8hn"
      },
      "execution_count": null,
      "outputs": []
    },
    {
      "cell_type": "markdown",
      "source": [
        "## **Creating `Card Type`**"
      ],
      "metadata": {
        "id": "4P-XpP5lobFp"
      }
    },
    {
      "cell_type": "code",
      "source": [
        "# creating card_type dimension\n",
        "dim_card_type = spar_df.select([spar_df.card_type.alias(\"card_type\")]).distinct()"
      ],
      "metadata": {
        "id": "QbWgQRDVoQK0"
      },
      "execution_count": null,
      "outputs": []
    },
    {
      "cell_type": "code",
      "source": [
        " #checking count for validation hence verified\n",
        "dim_card_type.count()"
      ],
      "metadata": {
        "colab": {
          "base_uri": "https://localhost:8080/"
        },
        "id": "iXBkz5dDXgxy",
        "outputId": "00fa50d1-0642-437d-aa1f-3890c25e972c"
      },
      "execution_count": null,
      "outputs": [
        {
          "output_type": "execute_result",
          "data": {
            "text/plain": [
              "12"
            ]
          },
          "metadata": {},
          "execution_count": 112
        }
      ]
    },
    {
      "cell_type": "code",
      "source": [
        "# creating primary key or card_type_id column\n",
        "dim_card_type= dim_card_type.withColumn(\"new_column\",lit(\"ABC\"))\n",
        "w = Window().partitionBy('new_column').orderBy(lit('A'))\n",
        "dim_card_type= dim_card_type.withColumn(\"card_type_id\", row_number().over(w)).drop(\"new_column\")"
      ],
      "metadata": {
        "id": "zODI5hGlXhMJ"
      },
      "execution_count": null,
      "outputs": []
    },
    {
      "cell_type": "code",
      "source": [
        " # Checking dataframe's top 5 rows\n",
        "dim_card_type.show(5)"
      ],
      "metadata": {
        "colab": {
          "base_uri": "https://localhost:8080/"
        },
        "id": "-8xttQ2jXhRY",
        "outputId": "fd452caa-afdc-4f9e-b479-41840cc068d1"
      },
      "execution_count": null,
      "outputs": [
        {
          "output_type": "stream",
          "name": "stdout",
          "text": [
            "+------------------+------------+\n",
            "|         card_type|card_type_id|\n",
            "+------------------+------------+\n",
            "|   Dankort - on-us|           1|\n",
            "|            CIRRUS|           2|\n",
            "|              VISA|           3|\n",
            "|Mastercard - on-us|           4|\n",
            "|           Maestro|           5|\n",
            "+------------------+------------+\n",
            "only showing top 5 rows\n",
            "\n"
          ]
        }
      ]
    },
    {
      "cell_type": "code",
      "source": [
        "card_type = dim_card_type.select(\"card_type_id\",\"card_type\")"
      ],
      "metadata": {
        "id": "m4ZFTTR2XhVV"
      },
      "execution_count": null,
      "outputs": []
    },
    {
      "cell_type": "markdown",
      "source": [
        "## **Creating `Date` dimension**"
      ],
      "metadata": {
        "id": "jB8vCisDXv-v"
      }
    },
    {
      "cell_type": "code",
      "source": [
        "# Creating date data fame\n",
        "dim_date = spar_df.select([spar_df.year.alias(\"year\"),spar_df.month.alias(\"month\"),spar_df.day.alias(\"day\"),spar_df.hour.alias(\"hour\"),spar_df.weekday.alias(\"weekday\")]).distinct()"
      ],
      "metadata": {
        "id": "MPhXgHeqXhY3"
      },
      "execution_count": null,
      "outputs": []
    },
    {
      "cell_type": "code",
      "source": [
        "# Checking top 20 rows\n",
        "dim_date.show()"
      ],
      "metadata": {
        "colab": {
          "base_uri": "https://localhost:8080/"
        },
        "id": "bHcNJ2x2XhcA",
        "outputId": "32ab7093-78d7-4edd-a290-26218ba4614d"
      },
      "execution_count": null,
      "outputs": [
        {
          "output_type": "stream",
          "name": "stdout",
          "text": [
            "+----+--------+---+----+--------+\n",
            "|year|   month|day|hour| weekday|\n",
            "+----+--------+---+----+--------+\n",
            "|2017| January|  1|   9|  Sunday|\n",
            "|2017| January|  3|   5| Tuesday|\n",
            "|2017| January|  8|  19|  Sunday|\n",
            "|2017| January| 21|   3|Saturday|\n",
            "|2017| January| 23|  21|  Monday|\n",
            "|2017|February|  2|  19|Thursday|\n",
            "|2017|February|  5|  16|  Sunday|\n",
            "|2017|February| 21|  15| Tuesday|\n",
            "|2017|   March|  2|   8|Thursday|\n",
            "|2017|   April|  2|   2|  Sunday|\n",
            "|2017|   April|  6|   8|Thursday|\n",
            "|2017| January|  5|  21|Thursday|\n",
            "|2017| January| 17|  17| Tuesday|\n",
            "|2017| January| 22|  15|  Sunday|\n",
            "|2017| January| 27|  22|  Friday|\n",
            "|2017|February| 11|   7|Saturday|\n",
            "|2017|February| 11|  13|Saturday|\n",
            "|2017|February| 13|   3|  Monday|\n",
            "|2017|February| 13|  12|  Monday|\n",
            "|2017|February| 27|   5|  Monday|\n",
            "+----+--------+---+----+--------+\n",
            "only showing top 20 rows\n",
            "\n"
          ]
        }
      ]
    },
    {
      "cell_type": "code",
      "source": [
        "from pyspark.sql.functions  import date_format\n",
        "from pyspark.sql.functions import to_timestamp\n",
        "from pyspark.sql.functions import to_date\n",
        "\n",
        "# Creating New Month column with Integer value.\n",
        "dim_date=dim_date.withColumn('month_new', date_format(to_date(col('month'),'MMMM'),'MM').cast(IntegerType()))\n",
        "\n",
        "## adding new Month, day and hours columns with Zeroes\n",
        "dim_date=dim_date.withColumn('month_new', lpad(col('month_new'),2,'0')).withColumn('day_new', lpad(col('day'),2,'0')).withColumn('hour_new', lpad(col('hour'),2,'0'))\n"
      ],
      "metadata": {
        "id": "xuTGX1D3Xhfc"
      },
      "execution_count": null,
      "outputs": []
    },
    {
      "cell_type": "code",
      "source": [
        "# Create a new column Full_Date_time by combining Year, new month, day, hour and \"00\" value to create timestamp in YYYYMMDDMI24HHMI format.\n",
        "dim_date_final=dim_date.withColumn(\"full_date_time\",concat(col('year'),col('month_new'),col('day_new'),col('hour_new'),lit('00')))"
      ],
      "metadata": {
        "id": "Avc6MrwHXhiM"
      },
      "execution_count": null,
      "outputs": []
    },
    {
      "cell_type": "code",
      "source": [
        "# checking newly created columns\n",
        "dim_date_final.show(10)"
      ],
      "metadata": {
        "colab": {
          "base_uri": "https://localhost:8080/"
        },
        "id": "9-G7Mow3Xhlg",
        "outputId": "fa2bddeb-3681-4801-8151-34274cdca84b"
      },
      "execution_count": null,
      "outputs": [
        {
          "output_type": "stream",
          "name": "stdout",
          "text": [
            "+----+--------+---+----+--------+---------+-------+--------+--------------+\n",
            "|year|   month|day|hour| weekday|month_new|day_new|hour_new|full_date_time|\n",
            "+----+--------+---+----+--------+---------+-------+--------+--------------+\n",
            "|2017| January|  1|   9|  Sunday|       01|     01|      09|  201701010900|\n",
            "|2017| January|  3|   5| Tuesday|       01|     03|      05|  201701030500|\n",
            "|2017| January|  8|  19|  Sunday|       01|     08|      19|  201701081900|\n",
            "|2017| January| 21|   3|Saturday|       01|     21|      03|  201701210300|\n",
            "|2017| January| 23|  21|  Monday|       01|     23|      21|  201701232100|\n",
            "|2017|February|  2|  19|Thursday|       02|     02|      19|  201702021900|\n",
            "|2017|February|  5|  16|  Sunday|       02|     05|      16|  201702051600|\n",
            "|2017|February| 21|  15| Tuesday|       02|     21|      15|  201702211500|\n",
            "|2017|   March|  2|   8|Thursday|       03|     02|      08|  201703020800|\n",
            "|2017|   April|  2|   2|  Sunday|       04|     02|      02|  201704020200|\n",
            "+----+--------+---+----+--------+---------+-------+--------+--------------+\n",
            "only showing top 10 rows\n",
            "\n"
          ]
        }
      ]
    },
    {
      "cell_type": "code",
      "source": [
        "# Creating primary key for the dimension with name date_id\n",
        "dim_date_final= dim_date_final.withColumn(\"new_column\",lit(\"ABC\"))\n",
        "w = Window().partitionBy('new_column').orderBy(lit('A'))\n",
        "dim_date_final= dim_date_final.withColumn(\"date_id\", row_number().over(w)).drop(\"new_column\")"
      ],
      "metadata": {
        "id": "LG-6ICttXhpC"
      },
      "execution_count": null,
      "outputs": []
    },
    {
      "cell_type": "code",
      "source": [
        "# creating data from dim_date_final\n",
        "date = dim_date_final.select(\"date_id\",\"full_date_time\",\"year\",\"month\",\"day\",\"hour\",\"weekday\")"
      ],
      "metadata": {
        "id": "frFLL6bDXhsj"
      },
      "execution_count": null,
      "outputs": []
    },
    {
      "cell_type": "code",
      "source": [
        "#Finding the count for validation\n",
        "date.count()"
      ],
      "metadata": {
        "colab": {
          "base_uri": "https://localhost:8080/"
        },
        "id": "3t5Veqe4XhwF",
        "outputId": "17a34687-e781-4a95-d78e-83bb700e4985"
      },
      "execution_count": null,
      "outputs": [
        {
          "output_type": "execute_result",
          "data": {
            "text/plain": [
              "8685"
            ]
          },
          "metadata": {},
          "execution_count": 123
        }
      ]
    },
    {
      "cell_type": "code",
      "source": [
        "date.show(10)"
      ],
      "metadata": {
        "colab": {
          "base_uri": "https://localhost:8080/"
        },
        "id": "wOxEWBtxhlVH",
        "outputId": "9d1a94ce-dd8a-4893-9085-25f20d53a547"
      },
      "execution_count": null,
      "outputs": [
        {
          "output_type": "stream",
          "name": "stdout",
          "text": [
            "+-------+--------------+----+--------+---+----+--------+\n",
            "|date_id|full_date_time|year|   month|day|hour| weekday|\n",
            "+-------+--------------+----+--------+---+----+--------+\n",
            "|      1|  201701010900|2017| January|  1|   9|  Sunday|\n",
            "|      2|  201701030500|2017| January|  3|   5| Tuesday|\n",
            "|      3|  201701081900|2017| January|  8|  19|  Sunday|\n",
            "|      4|  201701210300|2017| January| 21|   3|Saturday|\n",
            "|      5|  201701232100|2017| January| 23|  21|  Monday|\n",
            "|      6|  201702021900|2017|February|  2|  19|Thursday|\n",
            "|      7|  201702051600|2017|February|  5|  16|  Sunday|\n",
            "|      8|  201702211500|2017|February| 21|  15| Tuesday|\n",
            "|      9|  201703020800|2017|   March|  2|   8|Thursday|\n",
            "|     10|  201704020200|2017|   April|  2|   2|  Sunday|\n",
            "+-------+--------------+----+--------+---+----+--------+\n",
            "only showing top 10 rows\n",
            "\n"
          ]
        }
      ]
    },
    {
      "cell_type": "markdown",
      "source": [
        "## **Creating `ATM` dimension**"
      ],
      "metadata": {
        "id": "HhRbaANGYLtY"
      }
    },
    {
      "cell_type": "code",
      "source": [
        "#creating new data fame with atm related columns\n",
        "dim_atm = spar_df.select([spar_df.atm_id.alias(\"atm_number\"),spar_df.atm_manufacturer.alias(\"atm_manufacturer\"),spar_df.atm_lat.alias(\"lat\"),spar_df.atm_lon.alias(\"lon\")])"
      ],
      "metadata": {
        "id": "GSW7MCIPXhzk"
      },
      "execution_count": null,
      "outputs": []
    },
    {
      "cell_type": "code",
      "source": [
        "# Checking top 3 rows\n",
        "dim_atm.show(3)"
      ],
      "metadata": {
        "colab": {
          "base_uri": "https://localhost:8080/"
        },
        "id": "KolTvneZXh3T",
        "outputId": "e712093a-f389-4ca8-c328-72543cbba8ec"
      },
      "execution_count": null,
      "outputs": [
        {
          "output_type": "stream",
          "name": "stdout",
          "text": [
            "+----------+----------------+--------+--------+\n",
            "|atm_number|atm_manufacturer|     lat|     lon|\n",
            "+----------+----------------+--------+--------+\n",
            "|         1|             NCR|55.23342|11.76327|\n",
            "|         2|             NCR|57.04284|9.950013|\n",
            "|         2|             NCR|57.04284|9.950013|\n",
            "+----------+----------------+--------+--------+\n",
            "only showing top 3 rows\n",
            "\n"
          ]
        }
      ]
    },
    {
      "cell_type": "code",
      "source": [
        "#To add atm_location_id of dim_location df as a foreign key to the atm table, adding left join to the atm table and locatino table.\n",
        "dim_atm = dim_atm.join(location, on = [\"lat\",\"lon\"],how = \"leftouter\")"
      ],
      "metadata": {
        "id": "HwURC8ZUXh7D"
      },
      "execution_count": null,
      "outputs": []
    },
    {
      "cell_type": "code",
      "source": [
        "# Taking distinct values to avoid repeated values\n",
        "atm_distinct =dim_atm.distinct()"
      ],
      "metadata": {
        "id": "Rp70EQFEXh-U"
      },
      "execution_count": null,
      "outputs": []
    },
    {
      "cell_type": "code",
      "source": [
        "#adding our primary key to the 156 sets of data\n",
        "atm_distinct= atm_distinct.withColumn(\"new_column\",lit(\"ABC\"))\n",
        "w = Window().partitionBy('new_column').orderBy(lit('A'))\n",
        "atm_distinct= atm_distinct.withColumn(\"atm_id\", row_number().over(w)).drop(\"new_column\")"
      ],
      "metadata": {
        "id": "ziLPaoJKXiB0"
      },
      "execution_count": null,
      "outputs": []
    },
    {
      "cell_type": "code",
      "source": [
        "# creating atm from atm_distinct\n",
        "atm = atm_distinct.select('atm_id','atm_number','atm_manufacturer','atm_location_id')"
      ],
      "metadata": {
        "id": "jSdedAHqXiFi"
      },
      "execution_count": null,
      "outputs": []
    },
    {
      "cell_type": "code",
      "source": [
        "#Rechecking the count for validation\n",
        "atm.count()"
      ],
      "metadata": {
        "colab": {
          "base_uri": "https://localhost:8080/"
        },
        "id": "IbqDua2AXiJo",
        "outputId": "031a936c-1b1c-424b-8e6f-ed8eb3c8af20"
      },
      "execution_count": null,
      "outputs": [
        {
          "output_type": "execute_result",
          "data": {
            "text/plain": [
              "154"
            ]
          },
          "metadata": {},
          "execution_count": 131
        }
      ]
    },
    {
      "cell_type": "markdown",
      "source": [
        "## **Creating `fact table`**"
      ],
      "metadata": {
        "id": "c1JAFvJJYzbO"
      }
    },
    {
      "cell_type": "code",
      "source": [
        "# Creating alias\n",
        "spar_df = spar_df.alias('spar_df')\n",
        "date = date.alias('date')\n",
        "dim_card_type = dim_card_type.alias('dim_card_type')\n",
        "dim_location = dim_location.alias('dim_location')\n",
        "atm = atm.alias('atm')"
      ],
      "metadata": {
        "id": "yixylE_PXiNW"
      },
      "execution_count": null,
      "outputs": []
    },
    {
      "cell_type": "markdown",
      "source": [
        "##### Note: Creating fact table will take 4 steps by outer left joining the input table with dimension tables\n",
        "##### Note: Dropping columns as required except primary keys of dimension table as they will act as foreign key"
      ],
      "metadata": {
        "id": "0Vn6I7PQZKR1"
      }
    },
    {
      "cell_type": "markdown",
      "source": [
        "##### Creating first_df"
      ],
      "metadata": {
        "id": "kW45UKXP1kD7"
      }
    },
    {
      "cell_type": "code",
      "source": [
        "# Creating firts_df by left join of date dimension on input data frame and dropping columns\n",
        "first_df =spar_df.join(date, on = ['year','month','day','hour','weekday'],how='left').select('spar_df.*','date.date_id').drop(*['year','month','day','hour','weekday'])"
      ],
      "metadata": {
        "id": "cowq4eYTXiRL"
      },
      "execution_count": null,
      "outputs": []
    },
    {
      "cell_type": "code",
      "source": [
        "#  Creating alias for first\n",
        "first_df = first_df.alias(\"first_df\")"
      ],
      "metadata": {
        "id": "B4cGpJ21XiVB"
      },
      "execution_count": null,
      "outputs": []
    },
    {
      "cell_type": "code",
      "source": [
        "# Checking count for first step for validation\n",
        "first_df.count()"
      ],
      "metadata": {
        "colab": {
          "base_uri": "https://localhost:8080/"
        },
        "id": "q8DVzittXiY6",
        "outputId": "9448523d-6abb-46a1-b74b-8662b5898bce"
      },
      "execution_count": null,
      "outputs": [
        {
          "output_type": "execute_result",
          "data": {
            "text/plain": [
              "2468572"
            ]
          },
          "metadata": {},
          "execution_count": 135
        }
      ]
    },
    {
      "cell_type": "markdown",
      "source": [
        "##### Creating second_df"
      ],
      "metadata": {
        "id": "jv21XMvuZxrx"
      }
    },
    {
      "cell_type": "code",
      "source": [
        "# Creating second_df by joining card_type dimension with first_df\n",
        "second_df = first_df.join(dim_card_type, on = ['card_type'], how = 'left').select('first_df.*','dim_card_type.card_type_id').drop(*['card_type'])"
      ],
      "metadata": {
        "id": "wGTFfR1GXic_"
      },
      "execution_count": null,
      "outputs": []
    },
    {
      "cell_type": "code",
      "source": [
        "# Checking schema\n",
        "second_df.printSchema()"
      ],
      "metadata": {
        "colab": {
          "base_uri": "https://localhost:8080/"
        },
        "id": "r2DMn-uLZ7aP",
        "outputId": "7d51e66c-b0ef-4fee-9df9-a373211bd2f9"
      },
      "execution_count": null,
      "outputs": [
        {
          "output_type": "stream",
          "name": "stdout",
          "text": [
            "root\n",
            " |-- atm_status: string (nullable = true)\n",
            " |-- atm_id: string (nullable = true)\n",
            " |-- atm_manufacturer: string (nullable = true)\n",
            " |-- atm_location: string (nullable = true)\n",
            " |-- atm_streetname: string (nullable = true)\n",
            " |-- atm_street_number: integer (nullable = true)\n",
            " |-- atm_zipcode: integer (nullable = true)\n",
            " |-- atm_lat: float (nullable = true)\n",
            " |-- atm_lon: float (nullable = true)\n",
            " |-- currency: string (nullable = true)\n",
            " |-- transaction_amount: integer (nullable = true)\n",
            " |-- service: string (nullable = true)\n",
            " |-- message_code: string (nullable = true)\n",
            " |-- message_text: string (nullable = true)\n",
            " |-- weather_lat: float (nullable = true)\n",
            " |-- weather_lon: float (nullable = true)\n",
            " |-- weather_city_id: integer (nullable = true)\n",
            " |-- weather_city_name: string (nullable = true)\n",
            " |-- temp: float (nullable = true)\n",
            " |-- pressure: integer (nullable = true)\n",
            " |-- humidity: integer (nullable = true)\n",
            " |-- wind_speed: integer (nullable = true)\n",
            " |-- wind_deg: integer (nullable = true)\n",
            " |-- rain_3h: float (nullable = true)\n",
            " |-- clouds_all: integer (nullable = true)\n",
            " |-- weather_id: integer (nullable = true)\n",
            " |-- weather_main: string (nullable = true)\n",
            " |-- weather_description: string (nullable = true)\n",
            " |-- date_id: integer (nullable = true)\n",
            " |-- card_type_id: integer (nullable = true)\n",
            "\n"
          ]
        }
      ]
    },
    {
      "cell_type": "code",
      "source": [
        "#  Creating alias\n",
        "second_df = second_df.alias('second_df')"
      ],
      "metadata": {
        "id": "9eVOdZpXXigf"
      },
      "execution_count": null,
      "outputs": []
    },
    {
      "cell_type": "markdown",
      "source": [
        "##### Creating third_df"
      ],
      "metadata": {
        "id": "F-N6LUMXaJUA"
      }
    },
    {
      "cell_type": "code",
      "source": [
        "# Creating third_df by joining location dimension with second_df by performing outer join\n",
        "third_df = second_df.withColumnRenamed('atm_location','location').withColumnRenamed('atm_lat','lat').withColumnRenamed('atm_lon','lon').withColumnRenamed('atm_streetname','streetname').withColumnRenamed('atm_street_number','street_number').withColumnRenamed('atm_zipcode','zipcode').join(dim_location, on = ['location','lat','lon','streetname','street_number','zipcode'],how = 'left').select('second_df.*','dim_location.atm_location_id').drop(*['location','lat','lon','streetname','street_number','zipcode'])"
      ],
      "metadata": {
        "id": "UIYDFyEfXikQ"
      },
      "execution_count": null,
      "outputs": []
    },
    {
      "cell_type": "code",
      "source": [
        "# checking count again\n",
        "third_df.count()"
      ],
      "metadata": {
        "colab": {
          "base_uri": "https://localhost:8080/"
        },
        "id": "AN8qGwytXint",
        "outputId": "39b2c76e-ca09-4362-9cd8-e09d357236a6"
      },
      "execution_count": null,
      "outputs": [
        {
          "output_type": "execute_result",
          "data": {
            "text/plain": [
              "2468572"
            ]
          },
          "metadata": {},
          "execution_count": 140
        }
      ]
    },
    {
      "cell_type": "code",
      "source": [
        "# Creating alias\n",
        "third_df= third_df.alias('third_df')"
      ],
      "metadata": {
        "id": "iPJeOtiyXirn"
      },
      "execution_count": null,
      "outputs": []
    },
    {
      "cell_type": "code",
      "source": [
        "# Checking schema\n",
        "third_df.printSchema()"
      ],
      "metadata": {
        "colab": {
          "base_uri": "https://localhost:8080/"
        },
        "id": "wJrlet4QXivh",
        "outputId": "e80430c1-05d5-431e-b419-62bc48b45954"
      },
      "execution_count": null,
      "outputs": [
        {
          "output_type": "stream",
          "name": "stdout",
          "text": [
            "root\n",
            " |-- atm_status: string (nullable = true)\n",
            " |-- atm_id: string (nullable = true)\n",
            " |-- atm_manufacturer: string (nullable = true)\n",
            " |-- currency: string (nullable = true)\n",
            " |-- transaction_amount: integer (nullable = true)\n",
            " |-- service: string (nullable = true)\n",
            " |-- message_code: string (nullable = true)\n",
            " |-- message_text: string (nullable = true)\n",
            " |-- weather_lat: float (nullable = true)\n",
            " |-- weather_lon: float (nullable = true)\n",
            " |-- weather_city_id: integer (nullable = true)\n",
            " |-- weather_city_name: string (nullable = true)\n",
            " |-- temp: float (nullable = true)\n",
            " |-- pressure: integer (nullable = true)\n",
            " |-- humidity: integer (nullable = true)\n",
            " |-- wind_speed: integer (nullable = true)\n",
            " |-- wind_deg: integer (nullable = true)\n",
            " |-- rain_3h: float (nullable = true)\n",
            " |-- clouds_all: integer (nullable = true)\n",
            " |-- weather_id: integer (nullable = true)\n",
            " |-- weather_main: string (nullable = true)\n",
            " |-- weather_description: string (nullable = true)\n",
            " |-- date_id: integer (nullable = true)\n",
            " |-- card_type_id: integer (nullable = true)\n",
            " |-- atm_location_id: integer (nullable = true)\n",
            "\n"
          ]
        }
      ]
    },
    {
      "cell_type": "code",
      "source": [
        "# Renaming atm_id as atm_number as atm_id imported from input df\n",
        "third_df = third_df.withColumnRenamed('atm_id',\"atm_number\")"
      ],
      "metadata": {
        "id": "eenWC0uoXiz5"
      },
      "execution_count": null,
      "outputs": []
    },
    {
      "cell_type": "code",
      "source": [
        "# Checking schema\n",
        "third_df.printSchema()"
      ],
      "metadata": {
        "colab": {
          "base_uri": "https://localhost:8080/"
        },
        "id": "JOFjcrWQXi3Z",
        "outputId": "b82cd4fb-fced-460b-d30f-7e2f77e99464"
      },
      "execution_count": null,
      "outputs": [
        {
          "output_type": "stream",
          "name": "stdout",
          "text": [
            "root\n",
            " |-- atm_status: string (nullable = true)\n",
            " |-- atm_number: string (nullable = true)\n",
            " |-- atm_manufacturer: string (nullable = true)\n",
            " |-- currency: string (nullable = true)\n",
            " |-- transaction_amount: integer (nullable = true)\n",
            " |-- service: string (nullable = true)\n",
            " |-- message_code: string (nullable = true)\n",
            " |-- message_text: string (nullable = true)\n",
            " |-- weather_lat: float (nullable = true)\n",
            " |-- weather_lon: float (nullable = true)\n",
            " |-- weather_city_id: integer (nullable = true)\n",
            " |-- weather_city_name: string (nullable = true)\n",
            " |-- temp: float (nullable = true)\n",
            " |-- pressure: integer (nullable = true)\n",
            " |-- humidity: integer (nullable = true)\n",
            " |-- wind_speed: integer (nullable = true)\n",
            " |-- wind_deg: integer (nullable = true)\n",
            " |-- rain_3h: float (nullable = true)\n",
            " |-- clouds_all: integer (nullable = true)\n",
            " |-- weather_id: integer (nullable = true)\n",
            " |-- weather_main: string (nullable = true)\n",
            " |-- weather_description: string (nullable = true)\n",
            " |-- date_id: integer (nullable = true)\n",
            " |-- card_type_id: integer (nullable = true)\n",
            " |-- atm_location_id: integer (nullable = true)\n",
            "\n"
          ]
        }
      ]
    },
    {
      "cell_type": "markdown",
      "source": [
        "##### Creating fourth_df"
      ],
      "metadata": {
        "id": "rijbf3IpagKX"
      }
    },
    {
      "cell_type": "code",
      "source": [
        "# Craeting fourth_df by left joining of third with atm dimension\n",
        "fourth_df= third_df.join(atm,on =['atm_number','atm_manufacturer','atm_location_id'],how ='left').select('third_df.*','atm.atm_id').drop(*['atm_manufacturer','atm_nummber'])"
      ],
      "metadata": {
        "id": "io0VKvaVXi7R"
      },
      "execution_count": null,
      "outputs": []
    },
    {
      "cell_type": "code",
      "source": [
        "# Checking count for validation hence verifed\n",
        "fourth_df.count()"
      ],
      "metadata": {
        "colab": {
          "base_uri": "https://localhost:8080/"
        },
        "id": "JlB18NdjXi_Y",
        "outputId": "c583d646-e74e-4660-cc98-2626b96a14b5"
      },
      "execution_count": null,
      "outputs": [
        {
          "output_type": "execute_result",
          "data": {
            "text/plain": [
              "2468572"
            ]
          },
          "metadata": {},
          "execution_count": 146
        }
      ]
    },
    {
      "cell_type": "code",
      "source": [
        "# Checking schema\n",
        "fourth_df.printSchema()"
      ],
      "metadata": {
        "colab": {
          "base_uri": "https://localhost:8080/"
        },
        "id": "iyf1494jXjDo",
        "outputId": "93f3eab2-ab5d-4da1-84b7-42d8741bc59a"
      },
      "execution_count": null,
      "outputs": [
        {
          "output_type": "stream",
          "name": "stdout",
          "text": [
            "root\n",
            " |-- atm_location_id: integer (nullable = true)\n",
            " |-- atm_status: string (nullable = true)\n",
            " |-- currency: string (nullable = true)\n",
            " |-- transaction_amount: integer (nullable = true)\n",
            " |-- service: string (nullable = true)\n",
            " |-- message_code: string (nullable = true)\n",
            " |-- message_text: string (nullable = true)\n",
            " |-- weather_lat: float (nullable = true)\n",
            " |-- weather_lon: float (nullable = true)\n",
            " |-- weather_city_id: integer (nullable = true)\n",
            " |-- weather_city_name: string (nullable = true)\n",
            " |-- temp: float (nullable = true)\n",
            " |-- pressure: integer (nullable = true)\n",
            " |-- humidity: integer (nullable = true)\n",
            " |-- wind_speed: integer (nullable = true)\n",
            " |-- wind_deg: integer (nullable = true)\n",
            " |-- rain_3h: float (nullable = true)\n",
            " |-- clouds_all: integer (nullable = true)\n",
            " |-- weather_id: integer (nullable = true)\n",
            " |-- weather_main: string (nullable = true)\n",
            " |-- weather_description: string (nullable = true)\n",
            " |-- date_id: integer (nullable = true)\n",
            " |-- card_type_id: integer (nullable = true)\n",
            " |-- atm_id: integer (nullable = true)\n",
            "\n"
          ]
        }
      ]
    },
    {
      "cell_type": "code",
      "source": [
        "# top 3 rows\n",
        "fourth_df.show(3)"
      ],
      "metadata": {
        "colab": {
          "base_uri": "https://localhost:8080/"
        },
        "id": "iev4MdhbXjHM",
        "outputId": "5631bca5-2bbc-4493-bf5c-17f124edfc04"
      },
      "execution_count": null,
      "outputs": [
        {
          "output_type": "stream",
          "name": "stdout",
          "text": [
            "+---------------+----------+--------+------------------+-------+------------+------------+-----------+-----------+---------------+-----------------+------+--------+--------+----------+--------+-------+----------+----------+--------------------+-------------------+-------+------------+------+\n",
            "|atm_location_id|atm_status|currency|transaction_amount|service|message_code|message_text|weather_lat|weather_lon|weather_city_id|weather_city_name|  temp|pressure|humidity|wind_speed|wind_deg|rain_3h|clouds_all|weather_id|        weather_main|weather_description|date_id|card_type_id|atm_id|\n",
            "+---------------+----------+--------+------------------+-------+------------+------------+-----------+-----------+---------------+-----------------+------+--------+--------+----------+--------+-------+----------+----------+--------------------+-------------------+-------+------------+------+\n",
            "|             95|    Active|     DKK|              null|   null|        null|   55.229919|   11.76092|  2616038.0|           null|           281.15|1014.0|      87|       7|       260|    null|   92.0|       500|      null|          light rain|               null|   2203|          10|    24|\n",
            "|             75|  Inactive|     DKK|              null|   null|        null|   56.138828|    9.15768|  2619426.0|           null|           281.15|1011.0|     100|       6|       240|    null|   75.0|       300|      null|light intensity d...|               null|   2203|           3|    78|\n",
            "|             78|  Inactive|     DKK|              null|   null|        null|    57.04834|     9.9352|  2616235.0|           null|           280.64|1020.0|      93|       9|       250|    null|   92.0|       500|      null|          light rain|               null|   2203|          10|    93|\n",
            "+---------------+----------+--------+------------------+-------+------------+------------+-----------+-----------+---------------+-----------------+------+--------+--------+----------+--------+-------+----------+----------+--------------------+-------------------+-------+------------+------+\n",
            "only showing top 3 rows\n",
            "\n"
          ]
        }
      ]
    },
    {
      "cell_type": "code",
      "source": [
        "# Rechecking count\n",
        "fourth_df.count()"
      ],
      "metadata": {
        "colab": {
          "base_uri": "https://localhost:8080/"
        },
        "id": "ekg9ekh7XjKq",
        "outputId": "fbbc434c-cfac-43f7-962c-6fdeaaa2fba3"
      },
      "execution_count": null,
      "outputs": [
        {
          "output_type": "execute_result",
          "data": {
            "text/plain": [
              "2468572"
            ]
          },
          "metadata": {},
          "execution_count": 149
        }
      ]
    },
    {
      "cell_type": "markdown",
      "source": [
        "##### Final step creating fact table fact_atm_trans"
      ],
      "metadata": {
        "id": "E0aFL6t6ar_V"
      }
    },
    {
      "cell_type": "code",
      "source": [
        "# creating fact table from fourth_df\n",
        "fact_atm_trans = fourth_df.alias(\"fact_atm_trans\")"
      ],
      "metadata": {
        "id": "FL_wiyq8aokR"
      },
      "execution_count": null,
      "outputs": []
    },
    {
      "cell_type": "code",
      "source": [
        "#adding our primary key to fact table\n",
        "fact_atm_trans= fact_atm_trans.withColumn(\"new_column\",lit(\"ABC\"))\n",
        "w = Window().partitionBy('new_column').orderBy(lit('A'))\n",
        "fact_atm_trans= fact_atm_trans.withColumn(\"trans_id\", row_number().over(w)).drop(\"new_column\")"
      ],
      "metadata": {
        "id": "xRhDRrKzaooh"
      },
      "execution_count": null,
      "outputs": []
    },
    {
      "cell_type": "code",
      "source": [
        "# checking schema of fact table\n",
        "fact_atm_trans.printSchema()"
      ],
      "metadata": {
        "colab": {
          "base_uri": "https://localhost:8080/"
        },
        "id": "HfEjMeOkaosF",
        "outputId": "3025b114-472c-4185-d6f9-9def03397432"
      },
      "execution_count": null,
      "outputs": [
        {
          "output_type": "stream",
          "name": "stdout",
          "text": [
            "root\n",
            " |-- atm_location_id: integer (nullable = true)\n",
            " |-- atm_status: string (nullable = true)\n",
            " |-- currency: string (nullable = true)\n",
            " |-- transaction_amount: integer (nullable = true)\n",
            " |-- service: string (nullable = true)\n",
            " |-- message_code: string (nullable = true)\n",
            " |-- message_text: string (nullable = true)\n",
            " |-- weather_lat: float (nullable = true)\n",
            " |-- weather_lon: float (nullable = true)\n",
            " |-- weather_city_id: integer (nullable = true)\n",
            " |-- weather_city_name: string (nullable = true)\n",
            " |-- temp: float (nullable = true)\n",
            " |-- pressure: integer (nullable = true)\n",
            " |-- humidity: integer (nullable = true)\n",
            " |-- wind_speed: integer (nullable = true)\n",
            " |-- wind_deg: integer (nullable = true)\n",
            " |-- rain_3h: float (nullable = true)\n",
            " |-- clouds_all: integer (nullable = true)\n",
            " |-- weather_id: integer (nullable = true)\n",
            " |-- weather_main: string (nullable = true)\n",
            " |-- weather_description: string (nullable = true)\n",
            " |-- date_id: integer (nullable = true)\n",
            " |-- card_type_id: integer (nullable = true)\n",
            " |-- atm_id: integer (nullable = true)\n",
            " |-- trans_id: integer (nullable = false)\n",
            "\n"
          ]
        }
      ]
    },
    {
      "cell_type": "code",
      "source": [
        " # dropping irrelevant columns as per schema\n",
        "fact_atm_trans = fact_atm_trans.drop('weather_lat','weather_lon','weather_city_id','weather_city_name','temp','pressure','humidity','wind_speed','wind_deg')"
      ],
      "metadata": {
        "id": "J4iSkHIcaovk"
      },
      "execution_count": null,
      "outputs": []
    },
    {
      "cell_type": "code",
      "source": [
        "# Renaming atm_location_id as weather_loaction_id as per schema\n",
        "fact_atm_trans = fact_atm_trans.withColumnRenamed(\"atm_location_id\",\"weather_loc_id\")"
      ],
      "metadata": {
        "id": "H3_PFd8Maoy5"
      },
      "execution_count": null,
      "outputs": []
    },
    {
      "cell_type": "code",
      "source": [
        "# Checking final schema\n",
        "fact_atm_trans.printSchema()"
      ],
      "metadata": {
        "colab": {
          "base_uri": "https://localhost:8080/"
        },
        "id": "2FbkyeG5ao2V",
        "outputId": "f066c9fb-81ee-4eb1-cb87-eaedd8486b26"
      },
      "execution_count": null,
      "outputs": [
        {
          "output_type": "stream",
          "name": "stdout",
          "text": [
            "root\n",
            " |-- weather_loc_id: integer (nullable = true)\n",
            " |-- atm_status: string (nullable = true)\n",
            " |-- currency: string (nullable = true)\n",
            " |-- transaction_amount: integer (nullable = true)\n",
            " |-- service: string (nullable = true)\n",
            " |-- message_code: string (nullable = true)\n",
            " |-- message_text: string (nullable = true)\n",
            " |-- rain_3h: float (nullable = true)\n",
            " |-- clouds_all: integer (nullable = true)\n",
            " |-- weather_id: integer (nullable = true)\n",
            " |-- weather_main: string (nullable = true)\n",
            " |-- weather_description: string (nullable = true)\n",
            " |-- date_id: integer (nullable = true)\n",
            " |-- card_type_id: integer (nullable = true)\n",
            " |-- atm_id: integer (nullable = true)\n",
            " |-- trans_id: integer (nullable = false)\n",
            "\n"
          ]
        }
      ]
    },
    {
      "cell_type": "code",
      "source": [
        "fact_atm_trans1 = fact_atm_trans.select('trans_id','atm_id','weather_loc_id','date_id','card_type_id','atm_status','currency','service','transaction_amount','message_code','message_text','rain_3h','clouds_all','weather_id','weather_main','weather_description')"
      ],
      "metadata": {
        "id": "Z5QRQeyZao5c"
      },
      "execution_count": null,
      "outputs": []
    },
    {
      "cell_type": "code",
      "source": [
        "fact_atm_trans1 = fact_atm_trans1.alias('fact_atm_trans1')\n"
      ],
      "metadata": {
        "id": "1N-t8BWtao9b"
      },
      "execution_count": null,
      "outputs": []
    },
    {
      "cell_type": "code",
      "source": [
        "fact_atm_trans1.show(2)"
      ],
      "metadata": {
        "colab": {
          "base_uri": "https://localhost:8080/"
        },
        "id": "UiCSlAuMapCW",
        "outputId": "e357957d-7faa-43cb-f2d0-e1cb1bd9f785"
      },
      "execution_count": null,
      "outputs": [
        {
          "output_type": "stream",
          "name": "stdout",
          "text": [
            "+--------+------+--------------+-------+------------+----------+--------+-------+------------------+------------+------------+-------+----------+----------+-------------+-------------------+\n",
            "|trans_id|atm_id|weather_loc_id|date_id|card_type_id|atm_status|currency|service|transaction_amount|message_code|message_text|rain_3h|clouds_all|weather_id| weather_main|weather_description|\n",
            "+--------+------+--------------+-------+------------+----------+--------+-------+------------------+------------+------------+-------+----------+----------+-------------+-------------------+\n",
            "|       1|    84|            33|    694|           4|    Active|     DKK|   null|              null|        null|      57.048|    0.0|       800|      null| Sky is Clear|               null|\n",
            "|       2|    20|            83|   4617|           7|    Active|     DKK|   null|              null|        null|   56.972301|   92.0|       501|      null|moderate rain|               null|\n",
            "+--------+------+--------------+-------+------------+----------+--------+-------+------------------+------------+------------+-------+----------+----------+-------------+-------------------+\n",
            "only showing top 2 rows\n",
            "\n"
          ]
        }
      ]
    },
    {
      "cell_type": "code",
      "source": [
        "fact_atm_trans1.printSchema()"
      ],
      "metadata": {
        "colab": {
          "base_uri": "https://localhost:8080/"
        },
        "id": "4EEEOaoEapHS",
        "outputId": "7b734cf8-f344-4af1-cf43-b08642f4e974"
      },
      "execution_count": null,
      "outputs": [
        {
          "output_type": "stream",
          "name": "stdout",
          "text": [
            "root\n",
            " |-- trans_id: integer (nullable = false)\n",
            " |-- atm_id: integer (nullable = true)\n",
            " |-- weather_loc_id: integer (nullable = true)\n",
            " |-- date_id: integer (nullable = true)\n",
            " |-- card_type_id: integer (nullable = true)\n",
            " |-- atm_status: string (nullable = true)\n",
            " |-- currency: string (nullable = true)\n",
            " |-- service: string (nullable = true)\n",
            " |-- transaction_amount: integer (nullable = true)\n",
            " |-- message_code: string (nullable = true)\n",
            " |-- message_text: string (nullable = true)\n",
            " |-- rain_3h: float (nullable = true)\n",
            " |-- clouds_all: integer (nullable = true)\n",
            " |-- weather_id: integer (nullable = true)\n",
            " |-- weather_main: string (nullable = true)\n",
            " |-- weather_description: string (nullable = true)\n",
            "\n"
          ]
        }
      ]
    },
    {
      "cell_type": "markdown",
      "source": [
        "## **Writing csv**"
      ],
      "metadata": {
        "id": "TfpulYd3o5F7"
      }
    },
    {
      "cell_type": "markdown",
      "source": [
        "##### **Saving fact table as csv**"
      ],
      "metadata": {
        "id": "Uv4OvLHQbLds"
      }
    },
    {
      "cell_type": "code",
      "source": [
        "fact_atm_trans1.coalesce(1).write.mode(\"overwrite\").option(\"header\", \"true\").csv(\"/content/drive/MyDrive/BDT_dataset/Cleaned dataset/fact.csv\")"
      ],
      "metadata": {
        "id": "YhoHK2QXXjOy"
      },
      "execution_count": null,
      "outputs": []
    },
    {
      "cell_type": "markdown",
      "source": [
        "##### **Dimension tables**"
      ],
      "metadata": {
        "id": "g3Bs95RFbTzK"
      }
    },
    {
      "cell_type": "code",
      "source": [
        "#dim-atm/\n",
        "atm.coalesce(1).write.mode(\"overwrite\").option(\"header\", \"true\").csv(\"/content/drive/MyDrive/BDT_dataset/Cleaned dataset/atm.csv\")"
      ],
      "metadata": {
        "id": "PjQ-9pXOXjSX"
      },
      "execution_count": null,
      "outputs": []
    },
    {
      "cell_type": "code",
      "source": [
        "### dim-card-type/\n",
        "card_type.coalesce(1).write.mode(\"overwrite\").option(\"header\", \"true\").csv(\"/content/drive/MyDrive/BDT_dataset/Cleaned dataset/card_type.csv\")"
      ],
      "metadata": {
        "id": "3p3tmxbZbeLf"
      },
      "execution_count": null,
      "outputs": []
    },
    {
      "cell_type": "code",
      "source": [
        "#dim-date\n",
        "date.coalesce(1).write.mode(\"overwrite\").option(\"header\", \"true\").csv(\"/content/drive/MyDrive/BDT_dataset/Cleaned dataset/data.csv\")"
      ],
      "metadata": {
        "id": "ogcqzxOzbePL"
      },
      "execution_count": null,
      "outputs": []
    },
    {
      "cell_type": "code",
      "source": [
        "#dim-location\n",
        "location.coalesce(1).write.mode(\"overwrite\").option(\"header\", \"true\").csv(\"/content/drive/MyDrive/BDT_dataset/Cleaned dataset/location.csv\")"
      ],
      "metadata": {
        "id": "d0vX35_JbeSt"
      },
      "execution_count": null,
      "outputs": []
    }
  ]
}