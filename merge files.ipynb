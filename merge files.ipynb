{
 "cells": [
  {
   "cell_type": "code",
   "execution_count": 2,
   "id": "8a4abc1b",
   "metadata": {},
   "outputs": [],
   "source": [
    "import pandas as pd"
   ]
  },
  {
   "cell_type": "code",
   "execution_count": 3,
   "id": "3822a24f",
   "metadata": {},
   "outputs": [],
   "source": [
    "df=pd.read_csv('sparnord.csv')"
   ]
  },
  {
   "cell_type": "code",
   "execution_count": 4,
   "id": "13cf5c21",
   "metadata": {},
   "outputs": [
    {
     "data": {
      "text/plain": [
       "Index(['year', 'month', 'day', 'weekday', 'hour', 'atm_status', 'atm_id',\n",
       "       'atm_manufacturer', 'atm_location', 'atm_streetname',\n",
       "       'atm_street_number', 'atm_zipcode', 'atm_lat', 'atm_lon', 'currency',\n",
       "       'card_type', 'service', 'message_code', 'message_text', 'weather_lat',\n",
       "       'weather_lon', 'weather_city_id', 'weather_city_name', 'temp',\n",
       "       'pressure', 'humidity', 'wind_speed', 'wind_deg', 'rain_3h',\n",
       "       'clouds_all', 'weather_id', 'weather_main', 'weather_description'],\n",
       "      dtype='object')"
      ]
     },
     "execution_count": 4,
     "metadata": {},
     "output_type": "execute_result"
    }
   ],
   "source": [
    "df.columns"
   ]
  },
  {
   "cell_type": "code",
   "execution_count": null,
   "id": "01fca961",
   "metadata": {},
   "outputs": [],
   "source": []
  },
  {
   "cell_type": "code",
   "execution_count": null,
   "id": "9368dc35",
   "metadata": {},
   "outputs": [],
   "source": []
  }
 ],
 "metadata": {
  "kernelspec": {
   "display_name": "Python 3 (ipykernel)",
   "language": "python",
   "name": "python3"
  },
  "language_info": {
   "codemirror_mode": {
    "name": "ipython",
    "version": 3
   },
   "file_extension": ".py",
   "mimetype": "text/x-python",
   "name": "python",
   "nbconvert_exporter": "python",
   "pygments_lexer": "ipython3",
   "version": "3.10.2"
  }
 },
 "nbformat": 4,
 "nbformat_minor": 5
}
